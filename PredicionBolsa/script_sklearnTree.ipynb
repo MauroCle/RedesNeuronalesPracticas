{
 "cells": [
  {
   "cell_type": "markdown",
   "id": "dff3eddf-9859-424f-9330-8bde2323d8ee",
   "metadata": {},
   "source": [
    "# Machine Learning Model to Predict Stock Market"
   ]
  },
  {
   "cell_type": "markdown",
   "id": "6605d2d9",
   "metadata": {},
   "source": [
    "<style>\n",
    "    table.custom-table {\n",
    "        max-width: 1000px;\n",
    "        width: 100%;\n",
    "        margin: 0 auto; /* centers the table on the page */\n",
    "    }\n",
    "\n",
    "    table.custom-table td {\n",
    "        background-color: #fff;\n",
    "    }\n",
    "    \n",
    "    table.custom-table th, table.custom-table td {\n",
    "        text-align: center;\n",
    "        vertical-align: middle;\n",
    "        padding: 5px;\n",
    "        width: 500px; /* distribute the total width equally among three columns */\n",
    "    }\n",
    "\n",
    "    table.custom-table img {\n",
    "        width: 100%;\n",
    "        display: block; /* removes any gap under the image */\n",
    "    }\n",
    "</style>\n",
    "\n",
    "\n",
    "<table class=\"custom-table\">\n",
    "    <thead>\n",
    "        <tr>\n",
    "            <th>Output: Machine Learning Model: Decision Tree</th>\n",
    "            <th>Output: Reality vs Prediction</th>\n",
    "            <th>Input: OHLCV Apple Stock</th>\n",
    "        </tr>\n",
    "    </thead>\n",
    "    <tbody>\n",
    "        <tr>\n",
    "            <td>\n",
    "                <img src=\"src/output_1.png\">\n",
    "            </td>\n",
    "            <td>\n",
    "                <img src=\"src/output_2.png\">\n",
    "            </td>\n",
    "            <td>\n",
    "                <img src=\"src/input.png\">\n",
    "            </td>\n",
    "        </tr>\n",
    "    </tbody>\n",
    "</table>"
   ]
  },
  {
   "cell_type": "markdown",
   "id": "726ed1f5-8f2e-4e72-9e96-643fec7ca11a",
   "metadata": {},
   "source": [
    "## Load the data"
   ]
  },
  {
   "cell_type": "markdown",
   "id": "d6eb8cbd-8655-4d34-bceb-00dd5b223028",
   "metadata": {},
   "source": [
    "![](src/apple_watch.png)"
   ]
  },
  {
   "cell_type": "code",
   "execution_count": 1,
   "id": "9cc81cbd",
   "metadata": {},
   "outputs": [],
   "source": [
    "path_test_file ='data/Apple.xlsx' #Se indica el path del archivo excel\n",
    "path_train_file = 'data/Apple_Test.xlsx'"
   ]
  },
  {
   "cell_type": "code",
   "execution_count": 2,
   "id": "15d77c19",
   "metadata": {},
   "outputs": [],
   "source": [
    "import pandas"
   ]
  },
  {
   "cell_type": "code",
   "execution_count": 3,
   "id": "711b703d",
   "metadata": {},
   "outputs": [],
   "source": [
    "df_apple= pandas.read_excel(io=path_train_file, index_col = 'Date', parse_dates=True) #Se carga el excel en una variable, indicando la columna Date como indice y tratando las fechas\n",
    "df_apple_test= pandas.read_excel(io=path_test_file, index_col = 'Date', parse_dates=True)"
   ]
  },
  {
   "cell_type": "markdown",
   "id": "71e77503-0b0d-4041-895b-f0a07a595b81",
   "metadata": {},
   "source": [
    "## Machine Learning Model"
   ]
  },
  {
   "cell_type": "markdown",
   "id": "bf95e298-19ea-4094-b3c5-bc755e69fdc3",
   "metadata": {},
   "source": [
    "### Separate the data\n",
    "\n",
    "1. Target: which variable do you want to predict?\n",
    "2. Explanatory: which variables will you use to calculate the Prediction?"
   ]
  },
  {
   "cell_type": "code",
   "execution_count": 4,
   "id": "1896f269",
   "metadata": {},
   "outputs": [],
   "source": [
    "target = df_apple['Direction'] #El objetivo es la dirección (movimiento de precio)\n",
    "explanatory = df_apple.drop(columns='Direction') #La explicación es la información del excel EXCEPTO direction, por eso se dropea la columna\n",
    "\n",
    "target_test = df_apple_test['Direction']\n",
    "explanatory_test = df_apple_test.drop(columns='Direction') #La explicación es la información del excel EXCEPTO direction, por eso se dropea la columna"
   ]
  },
  {
   "cell_type": "markdown",
   "id": "9fc0cfb0-881f-464c-bcde-10bf38b12e19",
   "metadata": {},
   "source": [
    "### Compute the model\n",
    "\n",
    "The following Python code will compute the numbers of the mathematical equation that we will use to calculate if the ticker goes UP or DOWN."
   ]
  },
  {
   "cell_type": "code",
   "execution_count": 5,
   "id": "72fe9457",
   "metadata": {},
   "outputs": [],
   "source": [
    "from sklearn.tree import DecisionTreeClassifier # libreria que se va a usar, especificamente el arbol de decision. Usamos esto porque se quiere saber simplemente si el precio subirá o bajará\n",
    "\n",
    "model = DecisionTreeClassifier() #Declaro el modelo\n"
   ]
  },
  {
   "cell_type": "code",
   "execution_count": 16,
   "id": "efde6269",
   "metadata": {},
   "outputs": [
    {
     "ename": "TypeError",
     "evalue": "DecisionTreeClassifier.fit() got an unexpected keyword argument 'epochs'",
     "output_type": "error",
     "traceback": [
      "\u001b[1;31m---------------------------------------------------------------------------\u001b[0m",
      "\u001b[1;31mTypeError\u001b[0m                                 Traceback (most recent call last)",
      "Cell \u001b[1;32mIn[16], line 1\u001b[0m\n\u001b[1;32m----> 1\u001b[0m \u001b[43mmodel\u001b[49m\u001b[38;5;241;43m.\u001b[39;49m\u001b[43mfit\u001b[49m\u001b[43m(\u001b[49m\u001b[43mX\u001b[49m\u001b[38;5;241;43m=\u001b[39;49m\u001b[43mexplanatory\u001b[49m\u001b[43m,\u001b[49m\u001b[43m \u001b[49m\u001b[43my\u001b[49m\u001b[38;5;241;43m=\u001b[39;49m\u001b[43mtarget\u001b[49m\u001b[43m,\u001b[49m\u001b[43mepochs\u001b[49m\u001b[38;5;241;43m=\u001b[39;49m\u001b[38;5;241;43m150\u001b[39;49m\u001b[43m)\u001b[49m\n",
      "File \u001b[1;32mc:\\Users\\Mauro\\AppData\\Local\\Programs\\Python\\Python312\\Lib\\site-packages\\sklearn\\base.py:1473\u001b[0m, in \u001b[0;36m_fit_context.<locals>.decorator.<locals>.wrapper\u001b[1;34m(estimator, *args, **kwargs)\u001b[0m\n\u001b[0;32m   1466\u001b[0m     estimator\u001b[38;5;241m.\u001b[39m_validate_params()\n\u001b[0;32m   1468\u001b[0m \u001b[38;5;28;01mwith\u001b[39;00m config_context(\n\u001b[0;32m   1469\u001b[0m     skip_parameter_validation\u001b[38;5;241m=\u001b[39m(\n\u001b[0;32m   1470\u001b[0m         prefer_skip_nested_validation \u001b[38;5;129;01mor\u001b[39;00m global_skip_validation\n\u001b[0;32m   1471\u001b[0m     )\n\u001b[0;32m   1472\u001b[0m ):\n\u001b[1;32m-> 1473\u001b[0m     \u001b[38;5;28;01mreturn\u001b[39;00m \u001b[43mfit_method\u001b[49m\u001b[43m(\u001b[49m\u001b[43mestimator\u001b[49m\u001b[43m,\u001b[49m\u001b[43m \u001b[49m\u001b[38;5;241;43m*\u001b[39;49m\u001b[43margs\u001b[49m\u001b[43m,\u001b[49m\u001b[43m \u001b[49m\u001b[38;5;241;43m*\u001b[39;49m\u001b[38;5;241;43m*\u001b[39;49m\u001b[43mkwargs\u001b[49m\u001b[43m)\u001b[49m\n",
      "\u001b[1;31mTypeError\u001b[0m: DecisionTreeClassifier.fit() got an unexpected keyword argument 'epochs'"
     ]
    }
   ],
   "source": [
    "model.fit(X=explanatory, y=target)"
   ]
  },
  {
   "cell_type": "markdown",
   "id": "d24f778c",
   "metadata": {},
   "source": []
  },
  {
   "cell_type": "code",
   "execution_count": 7,
   "id": "9f57650c",
   "metadata": {},
   "outputs": [
    {
     "data": {
      "text/plain": [
       "array(['UP', 'UP', 'UP', ..., 'UP', 'UP', 'UP'], dtype=object)"
      ]
     },
     "execution_count": 7,
     "metadata": {},
     "output_type": "execute_result"
    }
   ],
   "source": [
    "model.predict(X=explanatory_test)"
   ]
  },
  {
   "cell_type": "code",
   "execution_count": 8,
   "id": "adcbff38",
   "metadata": {},
   "outputs": [],
   "source": [
    "df_pred = target_test.to_frame()"
   ]
  },
  {
   "cell_type": "code",
   "execution_count": 9,
   "id": "ad946b05",
   "metadata": {},
   "outputs": [],
   "source": [
    "df_pred['Prediction']= model.predict(X=explanatory_test)"
   ]
  },
  {
   "cell_type": "code",
   "execution_count": 10,
   "id": "d5fc8f40",
   "metadata": {},
   "outputs": [
    {
     "data": {
      "text/html": [
       "<div>\n",
       "<style scoped>\n",
       "    .dataframe tbody tr th:only-of-type {\n",
       "        vertical-align: middle;\n",
       "    }\n",
       "\n",
       "    .dataframe tbody tr th {\n",
       "        vertical-align: top;\n",
       "    }\n",
       "\n",
       "    .dataframe thead th {\n",
       "        text-align: right;\n",
       "    }\n",
       "</style>\n",
       "<table border=\"1\" class=\"dataframe\">\n",
       "  <thead>\n",
       "    <tr style=\"text-align: right;\">\n",
       "      <th></th>\n",
       "      <th>Direction</th>\n",
       "      <th>Prediction</th>\n",
       "    </tr>\n",
       "    <tr>\n",
       "      <th>Date</th>\n",
       "      <th></th>\n",
       "      <th></th>\n",
       "    </tr>\n",
       "  </thead>\n",
       "  <tbody>\n",
       "    <tr>\n",
       "      <th>2015-04-01</th>\n",
       "      <td>UP</td>\n",
       "      <td>UP</td>\n",
       "    </tr>\n",
       "    <tr>\n",
       "      <th>2015-04-02</th>\n",
       "      <td>UP</td>\n",
       "      <td>UP</td>\n",
       "    </tr>\n",
       "    <tr>\n",
       "      <th>2015-04-06</th>\n",
       "      <td>DOWN</td>\n",
       "      <td>UP</td>\n",
       "    </tr>\n",
       "    <tr>\n",
       "      <th>2015-04-07</th>\n",
       "      <td>DOWN</td>\n",
       "      <td>UP</td>\n",
       "    </tr>\n",
       "    <tr>\n",
       "      <th>2015-04-08</th>\n",
       "      <td>UP</td>\n",
       "      <td>UP</td>\n",
       "    </tr>\n",
       "    <tr>\n",
       "      <th>...</th>\n",
       "      <td>...</td>\n",
       "      <td>...</td>\n",
       "    </tr>\n",
       "    <tr>\n",
       "      <th>2022-12-23</th>\n",
       "      <td>DOWN</td>\n",
       "      <td>UP</td>\n",
       "    </tr>\n",
       "    <tr>\n",
       "      <th>2022-12-27</th>\n",
       "      <td>DOWN</td>\n",
       "      <td>DOWN</td>\n",
       "    </tr>\n",
       "    <tr>\n",
       "      <th>2022-12-28</th>\n",
       "      <td>UP</td>\n",
       "      <td>UP</td>\n",
       "    </tr>\n",
       "    <tr>\n",
       "      <th>2022-12-29</th>\n",
       "      <td>UP</td>\n",
       "      <td>UP</td>\n",
       "    </tr>\n",
       "    <tr>\n",
       "      <th>2022-12-30</th>\n",
       "      <td>DOWN</td>\n",
       "      <td>UP</td>\n",
       "    </tr>\n",
       "  </tbody>\n",
       "</table>\n",
       "<p>1953 rows × 2 columns</p>\n",
       "</div>"
      ],
      "text/plain": [
       "           Direction Prediction\n",
       "Date                           \n",
       "2015-04-01        UP         UP\n",
       "2015-04-02        UP         UP\n",
       "2015-04-06      DOWN         UP\n",
       "2015-04-07      DOWN         UP\n",
       "2015-04-08        UP         UP\n",
       "...              ...        ...\n",
       "2022-12-23      DOWN         UP\n",
       "2022-12-27      DOWN       DOWN\n",
       "2022-12-28        UP         UP\n",
       "2022-12-29        UP         UP\n",
       "2022-12-30      DOWN         UP\n",
       "\n",
       "[1953 rows x 2 columns]"
      ]
     },
     "execution_count": 10,
     "metadata": {},
     "output_type": "execute_result"
    }
   ],
   "source": [
    "df_pred"
   ]
  },
  {
   "cell_type": "markdown",
   "id": "63cfdcf3-cf2a-4d4c-99e8-f31dfe43a1f9",
   "metadata": {},
   "source": [
    "### Visualize the model"
   ]
  },
  {
   "cell_type": "code",
   "execution_count": 11,
   "id": "497ea736-7582-4f20-b766-f11d156eb3de",
   "metadata": {
    "tags": [
     "output"
    ]
   },
   "outputs": [
    {
     "data": {
      "text/plain": [
       "[Text(0.5887784090909091, 0.9722222222222222, 'High <= 154.145\\ngini = 0.492\\nsamples = 216\\nvalue = [94.0, 122.0]'),\n",
       " Text(0.4034090909090909, 0.9166666666666666, 'Volume <= 50779150.0\\ngini = 0.369\\nsamples = 41\\nvalue = [10, 31]'),\n",
       " Text(0.49609375, 0.9444444444444444, 'True  '),\n",
       " Text(0.3806818181818182, 0.8611111111111112, 'gini = 0.0\\nsamples = 4\\nvalue = [4, 0]'),\n",
       " Text(0.42613636363636365, 0.8611111111111112, 'Open <= 143.165\\ngini = 0.272\\nsamples = 37\\nvalue = [6, 31]'),\n",
       " Text(0.3806818181818182, 0.8055555555555556, 'Close <= 145.11\\ngini = 0.401\\nsamples = 18\\nvalue = [5, 13]'),\n",
       " Text(0.35795454545454547, 0.75, 'Volume <= 69565848.0\\ngini = 0.36\\nsamples = 17\\nvalue = [4, 13]'),\n",
       " Text(0.3125, 0.6944444444444444, 'Volume <= 66154800.0\\ngini = 0.469\\nsamples = 8\\nvalue = [3, 5]'),\n",
       " Text(0.2897727272727273, 0.6388888888888888, 'Open <= 134.455\\ngini = 0.278\\nsamples = 6\\nvalue = [1, 5]'),\n",
       " Text(0.26704545454545453, 0.5833333333333334, 'gini = 0.0\\nsamples = 3\\nvalue = [0, 3]'),\n",
       " Text(0.3125, 0.5833333333333334, 'High <= 139.86\\ngini = 0.444\\nsamples = 3\\nvalue = [1, 2]'),\n",
       " Text(0.2897727272727273, 0.5277777777777778, 'gini = 0.0\\nsamples = 1\\nvalue = [1, 0]'),\n",
       " Text(0.3352272727272727, 0.5277777777777778, 'gini = 0.0\\nsamples = 2\\nvalue = [0, 2]'),\n",
       " Text(0.3352272727272727, 0.6388888888888888, 'gini = 0.0\\nsamples = 2\\nvalue = [2, 0]'),\n",
       " Text(0.4034090909090909, 0.6944444444444444, 'Volume <= 88434152.0\\ngini = 0.198\\nsamples = 9\\nvalue = [1, 8]'),\n",
       " Text(0.3806818181818182, 0.6388888888888888, 'gini = 0.0\\nsamples = 7\\nvalue = [0, 7]'),\n",
       " Text(0.42613636363636365, 0.6388888888888888, 'Volume <= 100615552.0\\ngini = 0.5\\nsamples = 2\\nvalue = [1, 1]'),\n",
       " Text(0.4034090909090909, 0.5833333333333334, 'gini = 0.0\\nsamples = 1\\nvalue = [1, 0]'),\n",
       " Text(0.44886363636363635, 0.5833333333333334, 'gini = 0.0\\nsamples = 1\\nvalue = [0, 1]'),\n",
       " Text(0.4034090909090909, 0.75, 'gini = 0.0\\nsamples = 1\\nvalue = [1, 0]'),\n",
       " Text(0.4715909090909091, 0.8055555555555556, 'Open <= 152.235\\ngini = 0.1\\nsamples = 19\\nvalue = [1, 18]'),\n",
       " Text(0.44886363636363635, 0.75, 'gini = 0.0\\nsamples = 16\\nvalue = [0, 16]'),\n",
       " Text(0.4943181818181818, 0.75, 'Open <= 152.46\\ngini = 0.444\\nsamples = 3\\nvalue = [1, 2]'),\n",
       " Text(0.4715909090909091, 0.6944444444444444, 'gini = 0.0\\nsamples = 1\\nvalue = [1, 0]'),\n",
       " Text(0.5170454545454546, 0.6944444444444444, 'gini = 0.0\\nsamples = 2\\nvalue = [0, 2]'),\n",
       " Text(0.7741477272727273, 0.9166666666666666, 'Open <= 153.67\\ngini = 0.499\\nsamples = 175\\nvalue = [84, 91]'),\n",
       " Text(0.6814630681818181, 0.9444444444444444, '  False'),\n",
       " Text(0.7514204545454546, 0.8611111111111112, 'gini = 0.0\\nsamples = 7\\nvalue = [7, 0]'),\n",
       " Text(0.796875, 0.8611111111111112, 'Close <= 193.85\\ngini = 0.497\\nsamples = 168\\nvalue = [77, 91]'),\n",
       " Text(0.71875, 0.8055555555555556, 'Volume <= 112902600.0\\ngini = 0.493\\nsamples = 161\\nvalue = [71.0, 90.0]'),\n",
       " Text(0.6960227272727273, 0.75, 'Volume <= 65464950.0\\ngini = 0.49\\nsamples = 158\\nvalue = [68, 90]'),\n",
       " Text(0.5625, 0.6944444444444444, 'Close <= 193.175\\ngini = 0.499\\nsamples = 129\\nvalue = [61, 68]'),\n",
       " Text(0.5397727272727273, 0.6388888888888888, 'Open <= 193.595\\ngini = 0.499\\nsamples = 126\\nvalue = [61, 65]'),\n",
       " Text(0.5170454545454546, 0.5833333333333334, 'High <= 187.705\\ngini = 0.498\\nsamples = 123\\nvalue = [58, 65]'),\n",
       " Text(0.3977272727272727, 0.5277777777777778, 'Low <= 174.1\\ngini = 0.5\\nsamples = 105\\nvalue = [53, 52]'),\n",
       " Text(0.25, 0.4722222222222222, 'Close <= 169.985\\ngini = 0.487\\nsamples = 62\\nvalue = [26, 36]'),\n",
       " Text(0.1590909090909091, 0.4166666666666667, 'Open <= 167.7\\ngini = 0.495\\nsamples = 29\\nvalue = [16, 13]'),\n",
       " Text(0.13636363636363635, 0.3611111111111111, 'Volume <= 49050300.0\\ngini = 0.499\\nsamples = 25\\nvalue = [12, 13]'),\n",
       " Text(0.09090909090909091, 0.3055555555555556, 'Volume <= 46135250.0\\ngini = 0.42\\nsamples = 10\\nvalue = [7, 3]'),\n",
       " Text(0.06818181818181818, 0.25, 'Volume <= 45444450.0\\ngini = 0.48\\nsamples = 5\\nvalue = [2, 3]'),\n",
       " Text(0.045454545454545456, 0.19444444444444445, 'Low <= 163.96\\ngini = 0.444\\nsamples = 3\\nvalue = [2, 1]'),\n",
       " Text(0.022727272727272728, 0.1388888888888889, 'gini = 0.0\\nsamples = 2\\nvalue = [2, 0]'),\n",
       " Text(0.06818181818181818, 0.1388888888888889, 'gini = 0.0\\nsamples = 1\\nvalue = [0, 1]'),\n",
       " Text(0.09090909090909091, 0.19444444444444445, 'gini = 0.0\\nsamples = 2\\nvalue = [0, 2]'),\n",
       " Text(0.11363636363636363, 0.25, 'gini = 0.0\\nsamples = 5\\nvalue = [5, 0]'),\n",
       " Text(0.18181818181818182, 0.3055555555555556, 'Volume <= 51951000.0\\ngini = 0.444\\nsamples = 15\\nvalue = [5, 10]'),\n",
       " Text(0.1590909090909091, 0.25, 'gini = 0.0\\nsamples = 6\\nvalue = [0, 6]'),\n",
       " Text(0.20454545454545456, 0.25, 'Close <= 167.435\\ngini = 0.494\\nsamples = 9\\nvalue = [5, 4]'),\n",
       " Text(0.18181818181818182, 0.19444444444444445, 'High <= 154.455\\ngini = 0.408\\nsamples = 7\\nvalue = [5, 2]'),\n",
       " Text(0.1590909090909091, 0.1388888888888889, 'gini = 0.0\\nsamples = 1\\nvalue = [0, 1]'),\n",
       " Text(0.20454545454545456, 0.1388888888888889, 'Low <= 164.355\\ngini = 0.278\\nsamples = 6\\nvalue = [5, 1]'),\n",
       " Text(0.18181818181818182, 0.08333333333333333, 'gini = 0.0\\nsamples = 4\\nvalue = [4, 0]'),\n",
       " Text(0.22727272727272727, 0.08333333333333333, 'Low <= 165.025\\ngini = 0.5\\nsamples = 2\\nvalue = [1, 1]'),\n",
       " Text(0.20454545454545456, 0.027777777777777776, 'gini = 0.0\\nsamples = 1\\nvalue = [0, 1]'),\n",
       " Text(0.25, 0.027777777777777776, 'gini = 0.0\\nsamples = 1\\nvalue = [1, 0]'),\n",
       " Text(0.22727272727272727, 0.19444444444444445, 'gini = 0.0\\nsamples = 2\\nvalue = [0, 2]'),\n",
       " Text(0.18181818181818182, 0.3611111111111111, 'gini = 0.0\\nsamples = 4\\nvalue = [4, 0]'),\n",
       " Text(0.3409090909090909, 0.4166666666666667, 'Low <= 170.585\\ngini = 0.422\\nsamples = 33\\nvalue = [10, 23]'),\n",
       " Text(0.3181818181818182, 0.3611111111111111, 'gini = 0.0\\nsamples = 8\\nvalue = [0, 8]'),\n",
       " Text(0.36363636363636365, 0.3611111111111111, 'High <= 175.31\\ngini = 0.48\\nsamples = 25\\nvalue = [10, 15]'),\n",
       " Text(0.3181818181818182, 0.3055555555555556, 'Open <= 173.145\\ngini = 0.498\\nsamples = 17\\nvalue = [9, 8]'),\n",
       " Text(0.29545454545454547, 0.25, 'High <= 173.1\\ngini = 0.444\\nsamples = 12\\nvalue = [4, 8]'),\n",
       " Text(0.2727272727272727, 0.19444444444444445, 'gini = 0.0\\nsamples = 1\\nvalue = [1, 0]'),\n",
       " Text(0.3181818181818182, 0.19444444444444445, 'Close <= 173.215\\ngini = 0.397\\nsamples = 11\\nvalue = [3, 8]'),\n",
       " Text(0.29545454545454547, 0.1388888888888889, 'gini = 0.0\\nsamples = 5\\nvalue = [0, 5]'),\n",
       " Text(0.3409090909090909, 0.1388888888888889, 'Close <= 173.53\\ngini = 0.5\\nsamples = 6\\nvalue = [3, 3]'),\n",
       " Text(0.3181818181818182, 0.08333333333333333, 'gini = 0.0\\nsamples = 2\\nvalue = [2, 0]'),\n",
       " Text(0.36363636363636365, 0.08333333333333333, 'Volume <= 52592400.0\\ngini = 0.375\\nsamples = 4\\nvalue = [1, 3]'),\n",
       " Text(0.3409090909090909, 0.027777777777777776, 'gini = 0.0\\nsamples = 1\\nvalue = [1, 0]'),\n",
       " Text(0.38636363636363635, 0.027777777777777776, 'gini = 0.0\\nsamples = 3\\nvalue = [0, 3]'),\n",
       " Text(0.3409090909090909, 0.25, 'gini = 0.0\\nsamples = 5\\nvalue = [5, 0]'),\n",
       " Text(0.4090909090909091, 0.3055555555555556, 'Close <= 175.585\\ngini = 0.219\\nsamples = 8\\nvalue = [1, 7]'),\n",
       " Text(0.38636363636363635, 0.25, 'gini = 0.0\\nsamples = 5\\nvalue = [0, 5]'),\n",
       " Text(0.4318181818181818, 0.25, 'Volume <= 59059950.0\\ngini = 0.444\\nsamples = 3\\nvalue = [1, 2]'),\n",
       " Text(0.4090909090909091, 0.19444444444444445, 'gini = 0.0\\nsamples = 2\\nvalue = [0, 2]'),\n",
       " Text(0.45454545454545453, 0.19444444444444445, 'gini = 0.0\\nsamples = 1\\nvalue = [1, 0]'),\n",
       " Text(0.5454545454545454, 0.4722222222222222, 'Low <= 175.81\\ngini = 0.467\\nsamples = 43\\nvalue = [27, 16]'),\n",
       " Text(0.5227272727272727, 0.4166666666666667, 'gini = 0.0\\nsamples = 7\\nvalue = [7, 0]'),\n",
       " Text(0.5681818181818182, 0.4166666666666667, 'Low <= 176.375\\ngini = 0.494\\nsamples = 36\\nvalue = [20, 16]'),\n",
       " Text(0.5454545454545454, 0.3611111111111111, 'gini = 0.0\\nsamples = 4\\nvalue = [0, 4]'),\n",
       " Text(0.5909090909090909, 0.3611111111111111, 'Low <= 177.315\\ngini = 0.469\\nsamples = 32\\nvalue = [20, 12]'),\n",
       " Text(0.5454545454545454, 0.3055555555555556, 'High <= 178.805\\ngini = 0.219\\nsamples = 8\\nvalue = [7, 1]'),\n",
       " Text(0.5227272727272727, 0.25, 'High <= 178.58\\ngini = 0.5\\nsamples = 2\\nvalue = [1, 1]'),\n",
       " Text(0.5, 0.19444444444444445, 'gini = 0.0\\nsamples = 1\\nvalue = [1, 0]'),\n",
       " Text(0.5454545454545454, 0.19444444444444445, 'gini = 0.0\\nsamples = 1\\nvalue = [0, 1]'),\n",
       " Text(0.5681818181818182, 0.25, 'gini = 0.0\\nsamples = 6\\nvalue = [6, 0]'),\n",
       " Text(0.6363636363636364, 0.3055555555555556, 'Open <= 178.48\\ngini = 0.497\\nsamples = 24\\nvalue = [13, 11]'),\n",
       " Text(0.6136363636363636, 0.25, 'gini = 0.0\\nsamples = 4\\nvalue = [0, 4]'),\n",
       " Text(0.6590909090909091, 0.25, 'Volume <= 49105500.0\\ngini = 0.455\\nsamples = 20\\nvalue = [13, 7]'),\n",
       " Text(0.6363636363636364, 0.19444444444444445, 'gini = 0.0\\nsamples = 2\\nvalue = [0, 2]'),\n",
       " Text(0.6818181818181818, 0.19444444444444445, 'High <= 184.005\\ngini = 0.401\\nsamples = 18\\nvalue = [13, 5]'),\n",
       " Text(0.6590909090909091, 0.1388888888888889, 'gini = 0.0\\nsamples = 9\\nvalue = [9, 0]'),\n",
       " Text(0.7045454545454546, 0.1388888888888889, 'Close <= 184.565\\ngini = 0.494\\nsamples = 9\\nvalue = [4, 5]'),\n",
       " Text(0.6818181818181818, 0.08333333333333333, 'gini = 0.0\\nsamples = 5\\nvalue = [0, 5]'),\n",
       " Text(0.7272727272727273, 0.08333333333333333, 'gini = 0.0\\nsamples = 4\\nvalue = [4, 0]'),\n",
       " Text(0.6363636363636364, 0.5277777777777778, 'High <= 189.95\\ngini = 0.401\\nsamples = 18\\nvalue = [5, 13]'),\n",
       " Text(0.6136363636363636, 0.4722222222222222, 'gini = 0.0\\nsamples = 7\\nvalue = [0, 7]'),\n",
       " Text(0.6590909090909091, 0.4722222222222222, 'Low <= 188.04\\ngini = 0.496\\nsamples = 11\\nvalue = [5, 6]'),\n",
       " Text(0.6363636363636364, 0.4166666666666667, 'gini = 0.0\\nsamples = 2\\nvalue = [2, 0]'),\n",
       " Text(0.6818181818181818, 0.4166666666666667, 'High <= 191.86\\ngini = 0.444\\nsamples = 9\\nvalue = [3, 6]'),\n",
       " Text(0.6590909090909091, 0.3611111111111111, 'gini = 0.0\\nsamples = 4\\nvalue = [0, 4]'),\n",
       " Text(0.7045454545454546, 0.3611111111111111, 'High <= 192.825\\ngini = 0.48\\nsamples = 5\\nvalue = [3, 2]'),\n",
       " Text(0.6818181818181818, 0.3055555555555556, 'gini = 0.0\\nsamples = 3\\nvalue = [3, 0]'),\n",
       " Text(0.7272727272727273, 0.3055555555555556, 'gini = 0.0\\nsamples = 2\\nvalue = [0, 2]'),\n",
       " Text(0.5625, 0.5833333333333334, 'gini = 0.0\\nsamples = 3\\nvalue = [3, 0]'),\n",
       " Text(0.5852272727272727, 0.6388888888888888, 'gini = 0.0\\nsamples = 3\\nvalue = [0, 3]'),\n",
       " Text(0.8295454545454546, 0.6944444444444444, 'Open <= 154.43\\ngini = 0.366\\nsamples = 29\\nvalue = [7, 22]'),\n",
       " Text(0.8068181818181818, 0.6388888888888888, 'gini = 0.0\\nsamples = 1\\nvalue = [1, 0]'),\n",
       " Text(0.8522727272727273, 0.6388888888888888, 'Open <= 179.335\\ngini = 0.337\\nsamples = 28\\nvalue = [6, 22]'),\n",
       " Text(0.7727272727272727, 0.5833333333333334, 'Open <= 162.035\\ngini = 0.236\\nsamples = 22\\nvalue = [3, 19]'),\n",
       " Text(0.7272727272727273, 0.5277777777777778, 'Close <= 159.105\\ngini = 0.444\\nsamples = 6\\nvalue = [2, 4]'),\n",
       " Text(0.7045454545454546, 0.4722222222222222, 'gini = 0.0\\nsamples = 4\\nvalue = [0, 4]'),\n",
       " Text(0.75, 0.4722222222222222, 'gini = 0.0\\nsamples = 2\\nvalue = [2, 0]'),\n",
       " Text(0.8181818181818182, 0.5277777777777778, 'Close <= 177.565\\ngini = 0.117\\nsamples = 16\\nvalue = [1, 15]'),\n",
       " Text(0.7954545454545454, 0.4722222222222222, 'gini = 0.0\\nsamples = 11\\nvalue = [0, 11]'),\n",
       " Text(0.8409090909090909, 0.4722222222222222, 'Close <= 177.77\\ngini = 0.32\\nsamples = 5\\nvalue = [1, 4]'),\n",
       " Text(0.8181818181818182, 0.4166666666666667, 'gini = 0.0\\nsamples = 1\\nvalue = [1, 0]'),\n",
       " Text(0.8636363636363636, 0.4166666666666667, 'gini = 0.0\\nsamples = 4\\nvalue = [0, 4]'),\n",
       " Text(0.9318181818181818, 0.5833333333333334, 'High <= 181.7\\ngini = 0.5\\nsamples = 6\\nvalue = [3, 3]'),\n",
       " Text(0.9090909090909091, 0.5277777777777778, 'gini = 0.0\\nsamples = 2\\nvalue = [2, 0]'),\n",
       " Text(0.9545454545454546, 0.5277777777777778, 'Volume <= 89665948.0\\ngini = 0.375\\nsamples = 4\\nvalue = [1, 3]'),\n",
       " Text(0.9318181818181818, 0.4722222222222222, 'High <= 191.91\\ngini = 0.5\\nsamples = 2\\nvalue = [1, 1]'),\n",
       " Text(0.9090909090909091, 0.4166666666666667, 'gini = 0.0\\nsamples = 1\\nvalue = [1, 0]'),\n",
       " Text(0.9545454545454546, 0.4166666666666667, 'gini = 0.0\\nsamples = 1\\nvalue = [0, 1]'),\n",
       " Text(0.9772727272727273, 0.4722222222222222, 'gini = 0.0\\nsamples = 2\\nvalue = [0, 2]'),\n",
       " Text(0.7414772727272727, 0.75, 'gini = 0.0\\nsamples = 3\\nvalue = [3, 0]'),\n",
       " Text(0.875, 0.8055555555555556, 'Close <= 195.72\\ngini = 0.245\\nsamples = 7\\nvalue = [6, 1]'),\n",
       " Text(0.8522727272727273, 0.75, 'gini = 0.0\\nsamples = 5\\nvalue = [5, 0]'),\n",
       " Text(0.8977272727272727, 0.75, 'Volume <= 43557750.0\\ngini = 0.5\\nsamples = 2\\nvalue = [1, 1]'),\n",
       " Text(0.875, 0.6944444444444444, 'gini = 0.0\\nsamples = 1\\nvalue = [1, 0]'),\n",
       " Text(0.9204545454545454, 0.6944444444444444, 'gini = 0.0\\nsamples = 1\\nvalue = [0, 1]')]"
      ]
     },
     "execution_count": 11,
     "metadata": {},
     "output_type": "execute_result"
    },
    {
     "data": {
      "image/png": "[encoded data removed]",
      "text/plain": [
       "<Figure size 640x480 with 1 Axes>"
      ]
     },
     "metadata": {},
     "output_type": "display_data"
    }
   ],
   "source": [
    "from sklearn.tree import plot_tree\n",
    "plot_tree(decision_tree=model,feature_names=explanatory.columns.to_list())"
   ]
  },
  {
   "cell_type": "markdown",
   "id": "c9283287-67e8-4f24-a051-9a02d6324372",
   "metadata": {},
   "source": [
    "### Evaluate the model: compare Predictions with the reality"
   ]
  },
  {
   "cell_type": "code",
   "execution_count": 12,
   "id": "edd30602-2bad-4636-82a9-cc33f6997738",
   "metadata": {
    "tags": [
     "output"
    ]
   },
   "outputs": [
    {
     "data": {
      "text/plain": [
       "0.511520737327189"
      ]
     },
     "execution_count": 12,
     "metadata": {},
     "output_type": "execute_result"
    }
   ],
   "source": [
    "comp = df_pred.Direction == df_pred.Prediction\n",
    "comp.sum() / len(comp)"
   ]
  },
  {
   "cell_type": "code",
   "execution_count": 14,
   "id": "e088c9e7",
   "metadata": {},
   "outputs": [
    {
     "data": {
      "text/plain": [
       "0.511520737327189"
      ]
     },
     "execution_count": 14,
     "metadata": {},
     "output_type": "execute_result"
    }
   ],
   "source": [
    "model.score(X=explanatory_test,y=target_test)"
   ]
  },
  {
   "cell_type": "code",
   "execution_count": 15,
   "id": "f0fe504b",
   "metadata": {},
   "outputs": [
    {
     "data": {
      "text/html": [
       "<div>\n",
       "<style scoped>\n",
       "    .dataframe tbody tr th:only-of-type {\n",
       "        vertical-align: middle;\n",
       "    }\n",
       "\n",
       "    .dataframe tbody tr th {\n",
       "        vertical-align: top;\n",
       "    }\n",
       "\n",
       "    .dataframe thead th {\n",
       "        text-align: right;\n",
       "    }\n",
       "</style>\n",
       "<table border=\"1\" class=\"dataframe\">\n",
       "  <thead>\n",
       "    <tr style=\"text-align: right;\">\n",
       "      <th></th>\n",
       "      <th>Open</th>\n",
       "      <th>High</th>\n",
       "      <th>Low</th>\n",
       "      <th>Close</th>\n",
       "      <th>Volume</th>\n",
       "    </tr>\n",
       "    <tr>\n",
       "      <th>Date</th>\n",
       "      <th></th>\n",
       "      <th></th>\n",
       "      <th></th>\n",
       "      <th></th>\n",
       "      <th></th>\n",
       "    </tr>\n",
       "  </thead>\n",
       "  <tbody>\n",
       "    <tr>\n",
       "      <th>2015-04-01</th>\n",
       "      <td>31.205000</td>\n",
       "      <td>31.280001</td>\n",
       "      <td>30.775000</td>\n",
       "      <td>31.062500</td>\n",
       "      <td>162485600</td>\n",
       "    </tr>\n",
       "    <tr>\n",
       "      <th>2015-04-02</th>\n",
       "      <td>31.257500</td>\n",
       "      <td>31.389999</td>\n",
       "      <td>31.047501</td>\n",
       "      <td>31.330000</td>\n",
       "      <td>128880400</td>\n",
       "    </tr>\n",
       "    <tr>\n",
       "      <th>2015-04-06</th>\n",
       "      <td>31.117500</td>\n",
       "      <td>31.877501</td>\n",
       "      <td>31.082500</td>\n",
       "      <td>31.837500</td>\n",
       "      <td>148776000</td>\n",
       "    </tr>\n",
       "    <tr>\n",
       "      <th>2015-04-07</th>\n",
       "      <td>31.910000</td>\n",
       "      <td>32.029999</td>\n",
       "      <td>31.495001</td>\n",
       "      <td>31.502501</td>\n",
       "      <td>140049200</td>\n",
       "    </tr>\n",
       "    <tr>\n",
       "      <th>2015-04-08</th>\n",
       "      <td>31.462500</td>\n",
       "      <td>31.600000</td>\n",
       "      <td>31.242500</td>\n",
       "      <td>31.400000</td>\n",
       "      <td>149316800</td>\n",
       "    </tr>\n",
       "    <tr>\n",
       "      <th>...</th>\n",
       "      <td>...</td>\n",
       "      <td>...</td>\n",
       "      <td>...</td>\n",
       "      <td>...</td>\n",
       "      <td>...</td>\n",
       "    </tr>\n",
       "    <tr>\n",
       "      <th>2022-12-23</th>\n",
       "      <td>130.919998</td>\n",
       "      <td>132.419998</td>\n",
       "      <td>129.639999</td>\n",
       "      <td>131.860001</td>\n",
       "      <td>63814900</td>\n",
       "    </tr>\n",
       "    <tr>\n",
       "      <th>2022-12-27</th>\n",
       "      <td>131.380005</td>\n",
       "      <td>131.410004</td>\n",
       "      <td>128.720001</td>\n",
       "      <td>130.029999</td>\n",
       "      <td>69007800</td>\n",
       "    </tr>\n",
       "    <tr>\n",
       "      <th>2022-12-28</th>\n",
       "      <td>129.669998</td>\n",
       "      <td>131.029999</td>\n",
       "      <td>125.870003</td>\n",
       "      <td>126.040001</td>\n",
       "      <td>85438400</td>\n",
       "    </tr>\n",
       "    <tr>\n",
       "      <th>2022-12-29</th>\n",
       "      <td>127.989998</td>\n",
       "      <td>130.479996</td>\n",
       "      <td>127.730003</td>\n",
       "      <td>129.610001</td>\n",
       "      <td>75703700</td>\n",
       "    </tr>\n",
       "    <tr>\n",
       "      <th>2022-12-30</th>\n",
       "      <td>128.410004</td>\n",
       "      <td>129.949997</td>\n",
       "      <td>127.430000</td>\n",
       "      <td>129.929993</td>\n",
       "      <td>77034200</td>\n",
       "    </tr>\n",
       "  </tbody>\n",
       "</table>\n",
       "<p>1953 rows × 5 columns</p>\n",
       "</div>"
      ],
      "text/plain": [
       "                  Open        High         Low       Close     Volume\n",
       "Date                                                                 \n",
       "2015-04-01   31.205000   31.280001   30.775000   31.062500  162485600\n",
       "2015-04-02   31.257500   31.389999   31.047501   31.330000  128880400\n",
       "2015-04-06   31.117500   31.877501   31.082500   31.837500  148776000\n",
       "2015-04-07   31.910000   32.029999   31.495001   31.502501  140049200\n",
       "2015-04-08   31.462500   31.600000   31.242500   31.400000  149316800\n",
       "...                ...         ...         ...         ...        ...\n",
       "2022-12-23  130.919998  132.419998  129.639999  131.860001   63814900\n",
       "2022-12-27  131.380005  131.410004  128.720001  130.029999   69007800\n",
       "2022-12-28  129.669998  131.029999  125.870003  126.040001   85438400\n",
       "2022-12-29  127.989998  130.479996  127.730003  129.610001   75703700\n",
       "2022-12-30  128.410004  129.949997  127.430000  129.929993   77034200\n",
       "\n",
       "[1953 rows x 5 columns]"
      ]
     },
     "execution_count": 15,
     "metadata": {},
     "output_type": "execute_result"
    }
   ],
   "source": [
    "explanatory_test"
   ]
  }
 ],
 "metadata": {
  "kernelspec": {
   "display_name": "Python 3 (ipykernel)",
   "language": "python",
   "name": "python3"
  },
  "language_info": {
   "codemirror_mode": {
    "name": "ipython",
    "version": 3
   },
   "file_extension": ".py",
   "mimetype": "text/x-python",
   "name": "python",
   "nbconvert_exporter": "python",
   "pygments_lexer": "ipython3",
   "version": "3.12.4"
  },
  "toc-autonumbering": true
 },
 "nbformat": 4,
 "nbformat_minor": 5
}
