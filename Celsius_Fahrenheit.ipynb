{
 "cells": [
  {
   "cell_type": "code",
   "execution_count": 1,
   "metadata": {},
   "outputs": [],
   "source": [
    "#Importar librerias\n",
    "import tensorflow as tf #libreria de IA (google)\n",
    "import numpy as np #libreria para arrays numericos\n"
   ]
  },
  {
   "cell_type": "code",
   "execution_count": 2,
   "metadata": {},
   "outputs": [],
   "source": [
    "celsius = np.array([-40, -10, 0, 8, 15, 22, 38], dtype=float)\n",
    "fahrenheit = np.array([-40, 14, 32, 46, 59, 72, 100], dtype=float)"
   ]
  },
  {
   "cell_type": "code",
   "execution_count": null,
   "metadata": {},
   "outputs": [],
   "source": [
    "# #Armamos la red (con ayuda del framework Keras)\n",
    "# capa = tf.keras.layers.Dense(units=1, input_shape=[1]) # las capas densas tienen conexión desde cada neurona a cada neurona de la siguiente capa. En este caso solo tenemos 2 neuronas (entrada-salida)\n",
    "# #units= unidades o neuronas de la capa\n",
    "# #input_shape= entrada de una neurona\n",
    "\n",
    "# modelo = tf.keras.Sequential([capa]) #Usamos el modelo sequencial de Keras. Es el mas simple (no optimo pero sirve para el caso)\n",
    "\n",
    "oculta1 = tf.keras.layers.Dense(units=3,input_shape=[1]) #1 input, 3 neuronas con conexión densa\n",
    "oculta2 = tf.keras.layers.Dense(units=3) # 3 neuronas con conexión densa\n",
    "salida = tf.keras.layers.Dense(units=1) # 1 salida\n",
    "modelo = tf.keras.Sequential([oculta1,oculta2,salida])"
   ]
  },
  {
   "cell_type": "code",
   "execution_count": 4,
   "metadata": {},
   "outputs": [],
   "source": [
    "#Se detalla como procesar los datos para aprender \"mejor\"\n",
    "modelo.compile(\n",
    "optimizer=tf.keras.optimizers.Adam(0.01), #Le permite a la red como ajustar los pesos de manera eficiente para que poco a poco vaya mejorando. El numero es la tasa de aprendizaje, indica que tanto ajustar los pesos\n",
    "#Numeros muy pequeños aprenderá muy poco a poco, numeros muy grandes podria no llegar a la mejor opción. Eficiencia vs optimización.\n",
    "\n",
    "loss='mean_squared_error' #Esta funcioón considera que una poca cantidad de errores grandes es peor que una gran cantidad de errores pequeños.\n",
    ")\n"
   ]
  },
  {
   "cell_type": "code",
   "execution_count": 5,
   "metadata": {},
   "outputs": [
    {
     "name": "stdout",
     "output_type": "stream",
     "text": [
      "Comenzando entrenamiento...\n",
      "Modelo Entrenado\n"
     ]
    }
   ],
   "source": [
    "print(\"Comenzando entrenamiento...\")\n",
    "historial = modelo.fit(celsius, fahrenheit, epochs=1000, verbose=False) #epochs= cantidad de \"vueltas\" a la información, verbose=false = evita tanto log\n",
    "print(\"Modelo Entrenado\")"
   ]
  },
  {
   "cell_type": "code",
   "execution_count": null,
   "metadata": {},
   "outputs": [],
   "source": [
    "#A modo de revisión vemos el resultado de la función de perdida (que tan mal estan los resultados en cada vuelta)\n",
    "import matplotlib.pyplot as plt\n",
    "plt.xlabel(\"# Epoca\")\n",
    "plt.ylabel(\"Magnitud de pérdida\")\n",
    "plt.plot(historial.history[\"loss\"])"
   ]
  },
  {
   "cell_type": "code",
   "execution_count": 7,
   "metadata": {},
   "outputs": [
    {
     "name": "stdout",
     "output_type": "stream",
     "text": [
      "Hagamos una predicción!\n",
      "\u001b[1m1/1\u001b[0m \u001b[32m━━━━━━━━━━━━━━━━━━━━\u001b[0m\u001b[37m\u001b[0m \u001b[1m0s\u001b[0m 34ms/step\n",
      "El resultado es [[179267.7]] fahrenheit!\n"
     ]
    }
   ],
   "source": [
    "import numpy as np\n",
    "print(\"Hagamos una predicción!\")\n",
    "resultado = modelo.predict(np.array([100]).reshape(1, 1)) #reshape = transforma el array de la forma que lo espera Keras\n",
    "print(\"El resultado es \" + str(resultado) + \" fahrenheit!\")"
   ]
  }
 ],
 "metadata": {
  "kernelspec": {
   "display_name": "Python 3",
   "language": "python",
   "name": "python3"
  },
  "language_info": {
   "codemirror_mode": {
    "name": "ipython",
    "version": 3
   },
   "file_extension": ".py",
   "mimetype": "text/x-python",
   "name": "python",
   "nbconvert_exporter": "python",
   "pygments_lexer": "ipython3",
   "version": "3.12.4"
  }
 },
 "nbformat": 4,
 "nbformat_minor": 2
}
